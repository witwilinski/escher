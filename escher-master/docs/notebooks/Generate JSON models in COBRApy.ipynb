{
 "cells": [
  {
   "cell_type": "markdown",
   "metadata": {
    "deletable": true,
    "editable": true
   },
   "source": [
    "In COBRApy version 0.3.0b4 and later, you can generate JSON files for COBRA models, and these files are compatible with Escher. See the example below.\n",
    "\n",
    "JSON models for Escher are also available in the BiGG Database: http://bigg.ucsd.edu"
   ]
  },
  {
   "cell_type": "code",
   "execution_count": 3,
   "metadata": {
    "collapsed": false,
    "deletable": true,
    "editable": true
   },
   "outputs": [],
   "source": [
    "import cobra"
   ]
  },
  {
   "cell_type": "code",
   "execution_count": 5,
   "metadata": {
    "collapsed": false
   },
   "outputs": [
    {
     "name": "stdout",
     "output_type": "stream",
     "text": [
      "--2017-03-29 10:02:40--  http://bigg.ucsd.edu/static/models/iJO1366.xml\n",
      "Resolving bigg.ucsd.edu... 132.239.8.55\n",
      "Connecting to bigg.ucsd.edu|132.239.8.55|:80... connected.\n",
      "HTTP request sent, awaiting response... 200 OK\n",
      "Length: 9097702 (8.7M) [application/xml]\n",
      "Saving to: ‘iJO1366.xml’\n",
      "\n",
      "iJO1366.xml         100%[===================>]   8.68M  3.95MB/s    in 2.2s    \n",
      "\n",
      "2017-03-29 10:02:43 (3.95 MB/s) - ‘iJO1366.xml’ saved [9097702/9097702]\n",
      "\n"
     ]
    }
   ],
   "source": [
    "# Start with any SBML models\n",
    "!wget http://bigg.ucsd.edu/static/models/iJO1366.xml"
   ]
  },
  {
   "cell_type": "code",
   "execution_count": 6,
   "metadata": {
    "collapsed": false,
    "deletable": true,
    "editable": true
   },
   "outputs": [],
   "source": [
    "# Load a cobra model from anywhere you like\n",
    "model = cobra.io.read_sbml_model('iJO1366.xml')"
   ]
  },
  {
   "cell_type": "code",
   "execution_count": 7,
   "metadata": {
    "collapsed": false,
    "deletable": true,
    "editable": true
   },
   "outputs": [],
   "source": [
    "# generate a json file to load into Escher\n",
    "cobra.io.save_json_model(model, 'iJO1366.json')"
   ]
  },
  {
   "cell_type": "code",
   "execution_count": 8,
   "metadata": {
    "collapsed": false,
    "deletable": true,
    "editable": true
   },
   "outputs": [
    {
     "name": "stdout",
     "output_type": "stream",
     "text": [
      "--2017-03-29 10:03:42--  http://bigg.ucsd.edu/static/models/iJO1366.json\n",
      "Resolving bigg.ucsd.edu... 132.239.8.55\n",
      "Connecting to bigg.ucsd.edu|132.239.8.55|:80... connected.\n",
      "HTTP request sent, awaiting response... 200 OK\n",
      "Length: 1349163 (1.3M) [application/json]\n",
      "Saving to: ‘iJO1366.json’\n",
      "\n",
      "iJO1366.json        100%[===================>]   1.29M  3.64MB/s    in 0.4s    \n",
      "\n",
      "2017-03-29 10:03:43 (3.64 MB/s) - ‘iJO1366.json’ saved [1349163/1349163]\n",
      "\n"
     ]
    }
   ],
   "source": [
    "# JSON models are also available directly from BiGG Models\n",
    "!wget http://bigg.ucsd.edu/static/models/iJO1366.json"
   ]
  },
  {
   "cell_type": "code",
   "execution_count": null,
   "metadata": {
    "collapsed": true
   },
   "outputs": [],
   "source": []
  }
 ],
 "metadata": {
  "kernelspec": {
   "display_name": "Python 3",
   "language": "python",
   "name": "python3"
  },
  "language_info": {
   "codemirror_mode": {
    "name": "ipython",
    "version": 3
   },
   "file_extension": ".py",
   "mimetype": "text/x-python",
   "name": "python",
   "nbconvert_exporter": "python",
   "pygments_lexer": "ipython3",
   "version": "3.6.0"
  }
 },
 "nbformat": 4,
 "nbformat_minor": 0
}
